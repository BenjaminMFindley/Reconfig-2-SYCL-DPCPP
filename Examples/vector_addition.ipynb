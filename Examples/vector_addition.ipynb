{
 "cells": [
  {
   "cell_type": "markdown",
   "id": "9d26a3db",
   "metadata": {},
   "source": [
    "# Vector Addition"
   ]
  },
  {
   "cell_type": "markdown",
   "id": "899a216d",
   "metadata": {},
   "source": [
    "## DPC++ Program"
   ]
  },
  {
   "cell_type": "code",
   "execution_count": 8,
   "id": "0435a053",
   "metadata": {},
   "outputs": [
    {
     "name": "stdout",
     "output_type": "stream",
     "text": [
      "Overwriting /home/u167808/arc/vector_addition.cpp\n"
     ]
    }
   ],
   "source": [
    "%%writefile ~/arc/vector_addition.cpp\n",
    "#include <CL/sycl.hpp>\n",
    "#include <iostream>\n",
    "#include <sycl/ext/intel/fpga_extensions.hpp>\n",
    "#include <chrono>\n",
    "using namespace sycl;\n",
    "\n",
    "#define VECTOR_SIZE 1024\n",
    "\n",
    "int main(int argc, char *argv[]) {\n",
    "\n",
    "    // define input and output vectors\n",
    "    std::vector<int> in1;\n",
    "    std::vector<int> in2;\n",
    "    std::vector<int> out;\n",
    "    std::vector<int> val;\n",
    "\n",
    "    // resize vectors\n",
    "    in1.resize(VECTOR_SIZE);\n",
    "    in2.resize(VECTOR_SIZE);\n",
    "    out.resize(VECTOR_SIZE);\n",
    "    val.resize(VECTOR_SIZE);\n",
    "\n",
    "    // load input vectors\n",
    "    for (size_t i = 0; i < in1.size(); i++) {\n",
    "        in1.at(i) = i;\n",
    "        in2.at(i) = i;\n",
    "    }\n",
    "\n",
    "    // create the queue\n",
    "    queue queue(property::queue::enable_profiling{});\n",
    "    std::cout << \"Offload Device: \" << queue.get_device().get_info<info::device::name>() << \"\\n\";\n",
    "    \n",
    "    // create a range object for the buffers\n",
    "    range<1> num_items{ in1.size() };\n",
    "\n",
    "    // create buffers\n",
    "    buffer in1_buffer(in1);\n",
    "    buffer in2_buffer(in2);\n",
    "    buffer out_buffer(out);\n",
    "\n",
    "    auto device_start = std::chrono::high_resolution_clock::now();\n",
    "    auto event = queue.submit([&](handler& handler) {\n",
    "\n",
    "        // create accessors for the input/output buffers\n",
    "        auto in1_accessor = in1_buffer.get_access<access::mode::read>(handler);\n",
    "        auto in2_accessor = in2_buffer.get_access<access::mode::read>(handler);\n",
    "        auto out_accessor = out_buffer.get_access<access::mode::write>(handler);\n",
    "\n",
    "        // perform operation using parallel_for\n",
    "        // 1st param: num work items\n",
    "        // 2nd param: kernel to specify what to do per work item\n",
    "        handler.parallel_for(num_items, [=](auto i) {\n",
    "            out_accessor[i] = in1_accessor[i] + in2_accessor[i];\n",
    "        });\n",
    "        \n",
    "    });\n",
    "    auto device_stop = std::chrono::high_resolution_clock::now();\n",
    "    auto device_duration = std::chrono::duration_cast<std::chrono::microseconds>(device_stop - device_start);\n",
    "    \n",
    "    // allow read access for output buffer\n",
    "    out_buffer.get_access<access::mode::read>();\n",
    "    \n",
    "    // get reported times from kernel event profile\n",
    "    auto kernel_end = event.get_profiling_info<info::event_profiling::command_end>();\n",
    "    auto kernel_start = event.get_profiling_info<info::event_profiling::command_start>();\n",
    "    auto kernel_duration = (kernel_end-kernel_start)/1.0e3;\n",
    "\n",
    "    // host computation for validation and timing comparision\n",
    "    auto host_start = std::chrono::high_resolution_clock::now();\n",
    "    for (size_t i = 0; i < val.size(); i++) {\n",
    "        val.at(i) = in1.at(i) + in2.at(i);\n",
    "    }\n",
    "    auto host_stop = std::chrono::high_resolution_clock::now();\n",
    "    auto host_duration = std::chrono::duration_cast<std::chrono::microseconds>(host_stop - host_start);\n",
    "\n",
    "    // validate\n",
    "    for (size_t i = 0; i < val.size(); i++){\n",
    "        if (out.at(i) != val.at(i)) {\n",
    "            std::cout << \"Incorrect values from device.\\n\"\n",
    "                << out.at(i) << \" != \" << val.at(i) << \"\\n\";\n",
    "            return -1;\n",
    "        }\n",
    "    }\n",
    "    \n",
    "    int indices[]{ 0, 1, 2, (static_cast<int>(in1.size()) - 3), (static_cast<int>(in1.size()) - 2), (static_cast<int>(in1.size()) - 1) };\n",
    "    constexpr size_t indices_size = sizeof(indices) / sizeof(int);\n",
    "\n",
    "    // Print results.\n",
    "    std::cout << \"\\n\";\n",
    "    for (int i = 0; i < indices_size; i++) {\n",
    "        int j = indices[i];\n",
    "        if (i == indices_size - 3) std::cout << \"...\\n\";\n",
    "        std::cout << \"[\" << j << \"]: \" << in1[j] << \" + \" << in2[j] << \" = \"\n",
    "            << out[j] << \"\\n\";\n",
    "    }\n",
    "\n",
    "    std::cout << \"\\nKernel execution time: \" << kernel_duration << \" microseconds\\n\"\n",
    "        << \"Device duration: \" << device_duration.count() << \" microseconds\\n\"\n",
    "        << \"Host comparison: \" << host_duration.count() << \" microseconds\\n\";\n",
    "        \n",
    "    return 0;\n",
    "}"
   ]
  },
  {
   "cell_type": "markdown",
   "id": "9c1b99e5",
   "metadata": {},
   "source": [
    "## Shell script to compile and run program"
   ]
  },
  {
   "cell_type": "code",
   "execution_count": 9,
   "id": "f7c2526f-15bd-45de-a6eb-9fc0e1cf6f9c",
   "metadata": {},
   "outputs": [
    {
     "name": "stdout",
     "output_type": "stream",
     "text": [
      "Overwriting /home/u167808/arc/vector_addition.sh\n"
     ]
    }
   ],
   "source": [
    "%%writefile ~/arc/vector_addition.sh\n",
    "#!/bin/bash\n",
    "source /opt/intel/inteloneapi/setvars.sh > /dev/null 2>&1\n",
    "\n",
    "echo ====================\n",
    "echo vector_addition\n",
    "dpcpp ~/arc/vector_addition.cpp -o ~/arc/vector_addition -w -O3\n",
    "~/arc/vector_addition\n",
    "echo ===================="
   ]
  },
  {
   "cell_type": "markdown",
   "id": "17699560",
   "metadata": {},
   "source": [
    "## Script to queue jobs on Intel DevCloud"
   ]
  },
  {
   "cell_type": "code",
   "execution_count": 10,
   "id": "1d9ac55e",
   "metadata": {},
   "outputs": [
    {
     "name": "stdout",
     "output_type": "stream",
     "text": [
      "Overwriting /home/u167808/arc/submit_job.sh\n"
     ]
    }
   ],
   "source": [
    "%%writefile ~/arc/submit_job.sh\n",
    "#==========================================\n",
    "# Copyright © 2020 Intel Corporation\n",
    "#\n",
    "# SPDX-License-Identifier: MIT\n",
    "#==========================================\n",
    "# Script to submit job in Intel(R) DevCloud\n",
    "# Version: 0.72\n",
    "#==========================================\n",
    "\n",
    "if [ -z \"$1\" ]; then\n",
    "    echo \"Missing script argument, Usage: ./q run.sh\"\n",
    "elif [ ! -f \"$1\" ]; then\n",
    "    echo \"File $1 does not exist\"\n",
    "else\n",
    "    echo \"Job has been submitted to Intel(R) DevCloud and will execute soon.\"\n",
    "    echo \"\"\n",
    "    script=$1\n",
    "    property=$2\n",
    "     if [ \"$property\" == \"GPU GEN9\" ]; then\n",
    "             value=\"gen9\"   \n",
    "        elif [ \"$property\" == \"GPU Iris XE Max\" ]; then\n",
    "            value=\"iris_xe_max\"\n",
    "        elif [ \"$property\" == \"CPU Xeon 8153\" ]; then\n",
    "            value=\"renderkit\"\n",
    "        elif [ \"$property\" == \"CPU Xeon 8256\" ]; then\n",
    "            value=\"stratix10\"\n",
    "        elif [ \"$property\" == \"CPU Xeon 6128\" ]; then\n",
    "            value=\"skl\"\n",
    "        else\n",
    "            value=\"gen9\" \n",
    "    fi\n",
    "    if [ \"$property\" == \"{device.value}\" ]; then\n",
    "        echo \"Selected Device is: GPU\"\n",
    "    else\n",
    "        echo \"Selected Device is: \"$property\n",
    "    fi\n",
    "    echo \"\"\n",
    "    # Remove old output files\n",
    "    rm *.sh.* > /dev/null 2>&1\n",
    "    # Submit job using qsub\n",
    "    qsub_id=`qsub -l nodes=1:$value:ppn=2 -d . $script`\n",
    "    job_id=\"$(cut -d'.' -f1 <<<\"$qsub_id\")\"\n",
    "    # Print qstat output\n",
    "    qstat \n",
    "    # Wait for output file to be generated and display\n",
    "    echo \"\"\n",
    "    echo -ne \"Waiting for Output \"\n",
    "    until [ -f $script.o$job_id ]; do\n",
    "        sleep 1\n",
    "        echo -ne \"█\"\n",
    "        ((timeout++))\n",
    "        # Timeout if no output file generated within 60 seconds\n",
    "        if [ $timeout == 60 ]; then\n",
    "            echo \"\"\n",
    "            echo \"\"\n",
    "            echo \"TimeOut 60 seconds: Job is still queued for execution, check for output file later ($script.o$job_id)\"\n",
    "            echo \"\"\n",
    "            break\n",
    "        fi\n",
    "    done\n",
    "    # Print output and error file content if exist\n",
    "    if [ -n \"$(find -name '*.sh.o'$job_id)\" ]; then\n",
    "        echo \" Done⬇\"\n",
    "        cat $script.o$job_id\n",
    "        cat $script.e$job_id\n",
    "        echo \"Job Completed in $timeout seconds.\"\n",
    "        rm *.sh.*$job_id > /dev/null 2>&1\n",
    "    fi\n",
    "fi\n"
   ]
  },
  {
   "cell_type": "markdown",
   "id": "020177b5",
   "metadata": {},
   "source": [
    "## Execute program"
   ]
  },
  {
   "cell_type": "code",
   "execution_count": 11,
   "id": "547c8c01-89cd-44bd-a7f4-c1678bdd9b10",
   "metadata": {},
   "outputs": [
    {
     "name": "stdout",
     "output_type": "stream",
     "text": [
      "Job has been submitted to Intel(R) DevCloud and will execute soon.\n",
      "\n",
      "Selected Device is: GPU Gen9\n",
      "\n",
      "Job ID                    Name             User            Time Use S Queue\n",
      "------------------------- ---------------- --------------- -------- - -----\n",
      "2034760.v-qsvr-1           ...ub-singleuser u167808         00:00:20 R jupyterhub     \n",
      "2034787.v-qsvr-1           ...r_addition.sh u167808                0 Q batch          \n",
      "\n",
      "Waiting for Output ███████████████████████████████████ Done⬇\n",
      "\n",
      "########################################################################\n",
      "#      Date:           Wed 09 Nov 2022 03:36:14 AM PST\n",
      "#    Job ID:           2034787.v-qsvr-1.aidevcloud\n",
      "#      User:           u167808\n",
      "# Resources:           neednodes=1:gen9:ppn=2,nodes=1:gen9:ppn=2,walltime=06:00:00\n",
      "########################################################################\n",
      "\n",
      "====================\n",
      "vector_addition\n",
      "Offload Device: Intel(R) UHD Graphics P630 [0x3e96]\n",
      "\n",
      "[0]: 0 + 0 = 0\n",
      "[1]: 1 + 1 = 2\n",
      "[2]: 2 + 2 = 4\n",
      "...\n",
      "[1021]: 1021 + 1021 = 2042\n",
      "[1022]: 1022 + 1022 = 2044\n",
      "[1023]: 1023 + 1023 = 2046\n",
      "\n",
      "Kernel execution time: 14.608 microseconds\n",
      "Device duration: 252699 microseconds\n",
      "Host comparison: 1 microseconds\n",
      "====================\n",
      "\n",
      "########################################################################\n",
      "# End of output for job 2034787.v-qsvr-1.aidevcloud\n",
      "# Date: Wed 09 Nov 2022 03:36:24 AM PST\n",
      "########################################################################\n",
      "\n",
      "Job Completed in 35 seconds.\n"
     ]
    }
   ],
   "source": [
    "! chmod 755 ~/arc/submit_job.sh; chmod 755 ~/arc/vector_addition.sh; ~/arc/submit_job.sh ~/arc/vector_addition.sh \"GPU Gen9\";"
   ]
  }
 ],
 "metadata": {
  "kernelspec": {
   "display_name": "Python 3 (Intel® oneAPI 2022.3)",
   "language": "python",
   "name": "c009-intel_distribution_of_python_3_oneapi-beta05-python"
  },
  "language_info": {
   "codemirror_mode": {
    "name": "ipython",
    "version": 3
   },
   "file_extension": ".py",
   "mimetype": "text/x-python",
   "name": "python",
   "nbconvert_exporter": "python",
   "pygments_lexer": "ipython3",
   "version": "3.9.12"
  },
  "nbTranslate": {
   "displayLangs": [
    "*"
   ],
   "hotkey": "alt-t",
   "langInMainMenu": true,
   "sourceLang": "en",
   "targetLang": "fr",
   "useGoogleTranslate": true
  },
  "toc": {
   "base_numbering": 1,
   "nav_menu": {},
   "number_sections": true,
   "sideBar": true,
   "skip_h1_title": false,
   "title_cell": "Table of Contents",
   "title_sidebar": "Contents",
   "toc_cell": false,
   "toc_position": {},
   "toc_section_display": true,
   "toc_window_display": false
  }
 },
 "nbformat": 4,
 "nbformat_minor": 5
}
